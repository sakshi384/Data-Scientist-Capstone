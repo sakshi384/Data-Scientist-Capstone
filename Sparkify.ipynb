{
 "cells": [
  {
   "cell_type": "markdown",
   "metadata": {},
   "source": [
    "# Sparkify Project Workspace\n",
    "This workspace contains a tiny subset (128MB) of the full dataset available (12GB). Feel free to use this workspace to build your project, or to explore a smaller subset with Spark before deploying your cluster on the cloud. Instructions for setting up your Spark cluster is included in the last lesson of the Extracurricular Spark Course content.\n",
    "\n",
    "You can follow the steps below to guide your data analysis and model building portion of this project."
   ]
  },
  {
   "cell_type": "code",
   "execution_count": 1,
   "metadata": {},
   "outputs": [],
   "source": [
    "import matplotlib.pyplot as plt\n",
    "import seaborn as sns\n",
    "import numpy as np\n",
    "import time\n",
    "from datetime import datetime\n",
    "from functools import reduce\n",
    "\n",
    "from pyspark.sql import SparkSession\n",
    "from pyspark.sql.functions import avg, col, concat, desc, explode, lit, min, max, split, udf\n",
    "from pyspark.sql.types import IntegerType\n",
    "\n",
    "from pyspark.mllib.evaluation import BinaryClassificationMetrics\n",
    "\n",
    "from pyspark.ml.classification import LogisticRegression, RandomForestClassifier, GBTClassifier\n",
    "from pyspark.ml.evaluation import BinaryClassificationEvaluator\n",
    "from pyspark.ml.feature import Normalizer, StringIndexer, VectorAssembler\n",
    "from pyspark.ml.tuning import CrossValidator, ParamGridBuilder, CrossValidatorModel\n",
    "\n",
    "import re"
   ]
  },
  {
   "cell_type": "code",
   "execution_count": 2,
   "metadata": {},
   "outputs": [],
   "source": [
    "spark = SparkSession.builder \\\n",
    "    .master(\"local\") \\\n",
    "    .appName(\"Sparkify Churn Analysis\") \\\n",
    "    .getOrCreate()"
   ]
  },
  {
   "cell_type": "markdown",
   "metadata": {},
   "source": [
    "# Load and Clean Dataset\n",
    "In this workspace, the mini-dataset file is `mini_sparkify_event_data.json`. Load and clean the dataset, checking for invalid or missing data - for example, records without userids or sessionids. "
   ]
  },
  {
   "cell_type": "code",
   "execution_count": 3,
   "metadata": {},
   "outputs": [
    {
     "data": {
      "text/plain": [
       "DataFrame[artist: string, auth: string, firstName: string, gender: string, itemInSession: bigint, lastName: string, length: double, level: string, location: string, method: string, page: string, registration: bigint, sessionId: bigint, song: string, status: bigint, ts: bigint, userAgent: string, userId: string]"
      ]
     },
     "execution_count": 3,
     "metadata": {},
     "output_type": "execute_result"
    }
   ],
   "source": [
    "# load dataset\n",
    "sparkify_event_data = 'medium-sparkify-event-data.json'\n",
    "df = spark.read.json(sparkify_event_data)\n",
    "df.persist()"
   ]
  },
  {
   "cell_type": "code",
   "execution_count": 4,
   "metadata": {},
   "outputs": [
    {
     "data": {
      "text/plain": [
       "Row(artist='Martin Orford', auth='Logged In', firstName='Joseph', gender='M', itemInSession=20, lastName='Morales', length=597.55057, level='free', location='Corpus Christi, TX', method='PUT', page='NextSong', registration=1532063507000, sessionId=292, song='Grand Designs', status=200, ts=1538352011000, userAgent='\"Mozilla/5.0 (Macintosh; Intel Mac OS X 10_9_4) AppleWebKit/537.36 (KHTML, like Gecko) Chrome/36.0.1985.125 Safari/537.36\"', userId='293')"
      ]
     },
     "execution_count": 4,
     "metadata": {},
     "output_type": "execute_result"
    }
   ],
   "source": [
    "df.head()"
   ]
  },
  {
   "cell_type": "code",
   "execution_count": 5,
   "metadata": {},
   "outputs": [
    {
     "name": "stdout",
     "output_type": "stream",
     "text": [
      "+-------+-----------------+----------+---------+------+------------------+--------+------------------+------+----------------+------+-------+--------------------+------------------+--------------------+------------------+--------------------+--------------------+------------------+\n",
      "|summary|           artist|      auth|firstName|gender|     itemInSession|lastName|            length| level|        location|method|   page|        registration|         sessionId|                song|            status|                  ts|           userAgent|            userId|\n",
      "+-------+-----------------+----------+---------+------+------------------+--------+------------------+------+----------------+------+-------+--------------------+------------------+--------------------+------------------+--------------------+--------------------+------------------+\n",
      "|  count|           432877|    543705|   528005|528005|            543705|  528005|            432877|543705|          528005|543705| 543705|              528005|            543705|              432877|            543705|              543705|              528005|            543705|\n",
      "|   mean|527.5289537712895|      null|     null|  null|107.30629109535502|    null|248.66459278007807|  null|            null|  null|   null|1.535523414862806...|2040.8143533717732|            Infinity|210.01829116892432|1.540964541209808E12|                null| 60268.42669103512|\n",
      "| stddev|966.1072451772758|      null|     null|  null|116.72350849187941|    null| 98.41266955052018|  null|            null|  null|   null|3.0787254929942865E9|1434.3389310782754|                 NaN| 31.47191902156764|1.4820571448945475E9|                null|109898.82324176644|\n",
      "|    min|              !!!| Cancelled|  Aaliyah|     F|                 0|  Abbott|           0.78322|  free|       Akron, OH|   GET|  About|       1509854193000|                 1|\u001c",
      "ÃÂg ÃÂtti Gr...|               200|       1538352011000|\"Mozilla/5.0 (Mac...|                  |\n",
      "|    max|ÃÂlafur Arnalds|Logged Out|   Zyonna|     M|              1005|  Wright|        3024.66567|  paid|York-Hanover, PA|   PUT|Upgrade|       1543073874000|              4808|ÃÂ¾etta Gerist Ã...|               404|       1543622466000|Mozilla/5.0 (comp...|                99|\n",
      "+-------+-----------------+----------+---------+------+------------------+--------+------------------+------+----------------+------+-------+--------------------+------------------+--------------------+------------------+--------------------+--------------------+------------------+\n",
      "\n"
     ]
    }
   ],
   "source": [
    "df.describe().show()"
   ]
  },
  {
   "cell_type": "markdown",
   "metadata": {},
   "source": [
    "#### Clean dataset"
   ]
  },
  {
   "cell_type": "code",
   "execution_count": 6,
   "metadata": {},
   "outputs": [
    {
     "name": "stdout",
     "output_type": "stream",
     "text": [
      "(543705, 18)\n"
     ]
    }
   ],
   "source": [
    "print((df.count(), len(df.columns)))"
   ]
  },
  {
   "cell_type": "code",
   "execution_count": 7,
   "metadata": {},
   "outputs": [
    {
     "data": {
      "text/plain": [
       "artist           110828\n",
       "auth                  0\n",
       "firstName         15700\n",
       "gender            15700\n",
       "itemInSession         0\n",
       "lastName          15700\n",
       "length           110828\n",
       "level                 0\n",
       "location          15700\n",
       "method                0\n",
       "page                  0\n",
       "registration      15700\n",
       "sessionId             0\n",
       "song             110828\n",
       "status                0\n",
       "ts                    0\n",
       "userAgent         15700\n",
       "userId                0\n",
       "dtype: int64"
      ]
     },
     "execution_count": 7,
     "metadata": {},
     "output_type": "execute_result"
    }
   ],
   "source": [
    "df.toPandas().isnull().sum()"
   ]
  },
  {
   "cell_type": "code",
   "execution_count": 8,
   "metadata": {},
   "outputs": [
    {
     "data": {
      "image/png": "[encoded data removed]",
      "text/plain": [
       "<matplotlib.figure.Figure at 0x7f9932ddabe0>"
      ]
     },
     "metadata": {
      "needs_background": "light"
     },
     "output_type": "display_data"
    }
   ],
   "source": [
    "null_number = df.toPandas().isnull().sum()\n",
    "\n",
    "plt.figure(figsize=(10, 5))\n",
    "plt.title('Distribution of Number of Missing Value Points in the Sparkify Dataset in Each Column')\n",
    "plt.hist(null_number / df.count() * 100, bins=100)\n",
    "plt.xlabel('Percentage of Missing Data (%)')\n",
    "plt.ylabel('Count(s)')\n",
    "plt.show()"
   ]
  },
  {
   "cell_type": "code",
   "execution_count": 9,
   "metadata": {},
   "outputs": [
    {
     "name": "stdout",
     "output_type": "stream",
     "text": [
      "Attributes with equal to or under 2% of missing data: 9\n",
      "Attributes with over 2% of missing data: 9\n",
      "Attributes with missing data that exceeds 2%: \n",
      "artist          20.383848\n",
      "firstName        2.887595\n",
      "gender           2.887595\n",
      "lastName         2.887595\n",
      "length          20.383848\n",
      "location         2.887595\n",
      "registration     2.887595\n",
      "song            20.383848\n",
      "userAgent        2.887595\n",
      "dtype: float64\n"
     ]
    }
   ],
   "source": [
    "# Investigate patterns in the amount of missing data in each column\n",
    "data_under_2 = (null_number / df.count() * 100) <= 2\n",
    "data_over_2 = (null_number / df.count() * 100) > 2\n",
    "attri_over_2 = null_number.loc[(null_number / df.count() * 100) > 2]\n",
    "print(\"Attributes with equal to or under 2% of missing data: {}\".format(data_under_2.sum()))\n",
    "print(\"Attributes with over 2% of missing data: {}\".format(data_over_2.sum()))\n",
    "print(\"Attributes with missing data that exceeds 2%: \\n{}\".format(attri_over_2 / df.count() * 100))"
   ]
  },
  {
   "cell_type": "code",
   "execution_count": 10,
   "metadata": {},
   "outputs": [
    {
     "name": "stdout",
     "output_type": "stream",
     "text": [
      "+----------+-------------+-----+------+---------------+---------+------+-------------+------+\n",
      "|      auth|itemInSession|level|method|           page|sessionId|status|           ts|userId|\n",
      "+----------+-------------+-----+------+---------------+---------+------+-------------+------+\n",
      "| Logged In|           20| free|   PUT|       NextSong|      292|   200|1538352011000|   293|\n",
      "| Logged In|           74| free|   PUT|       NextSong|       97|   200|1538352025000|    98|\n",
      "| Logged In|          184| paid|   PUT|       NextSong|      178|   200|1538352118000|   179|\n",
      "| Logged In|          185| paid|   PUT|         Logout|      178|   307|1538352119000|   179|\n",
      "| Logged In|           22| paid|   PUT|       NextSong|      245|   200|1538352124000|   246|\n",
      "| Logged In|          266| paid|   PUT|       NextSong|      162|   200|1538352125000|   163|\n",
      "|Logged Out|          186| paid|   GET|           Home|      178|   200|1538352148000|      |\n",
      "|Logged Out|          187| paid|   GET|           Home|      178|   200|1538352151000|      |\n",
      "|Logged Out|          188| paid|   GET|           Home|      178|   200|1538352168000|      |\n",
      "|Logged Out|          189| paid|   PUT|          Login|      178|   307|1538352169000|      |\n",
      "| Logged In|          190| paid|   GET|           Home|      178|   200|1538352176000|   179|\n",
      "| Logged In|          107| free|   PUT|       NextSong|      442|   200|1538352215000|   175|\n",
      "| Logged In|            0| free|   GET|           Home|      497|   200|1538352241000|   100|\n",
      "| Logged In|            1| free|   PUT|       NextSong|      497|   200|1538352259000|   100|\n",
      "| Logged In|          267| paid|   PUT|       NextSong|      162|   200|1538352263000|   163|\n",
      "| Logged In|           23| paid|   PUT|       NextSong|      245|   200|1538352318000|   246|\n",
      "| Logged In|          191| paid|   PUT|       NextSong|      178|   200|1538352320000|   179|\n",
      "| Logged In|           83| free|   PUT|       NextSong|       38|   200|1538352323000|    39|\n",
      "| Logged In|          268| paid|   GET|      Downgrade|      162|   200|1538352336000|   163|\n",
      "| Logged In|          192| paid|   PUT|Add to Playlist|      178|   200|1538352376000|   179|\n",
      "+----------+-------------+-----+------+---------------+---------+------+-------------+------+\n",
      "only showing top 20 rows\n",
      "\n"
     ]
    }
   ],
   "source": [
    "# Remove the outlier columns from the dataset\n",
    "df = df.drop(*['artist', 'firstname', 'gender', 'lastname', 'length', 'location', 'registration', 'song', 'userAgent'])\n",
    "df.show()"
   ]
  },
  {
   "cell_type": "code",
   "execution_count": 11,
   "metadata": {},
   "outputs": [
    {
     "data": {
      "text/plain": [
       "auth             0\n",
       "itemInSession    0\n",
       "level            0\n",
       "method           0\n",
       "page             0\n",
       "sessionId        0\n",
       "status           0\n",
       "ts               0\n",
       "userId           0\n",
       "dtype: int64"
      ]
     },
     "execution_count": 11,
     "metadata": {},
     "output_type": "execute_result"
    }
   ],
   "source": [
    "df.toPandas().isnull().sum()"
   ]
  },
  {
   "cell_type": "code",
   "execution_count": 12,
   "metadata": {},
   "outputs": [
    {
     "data": {
      "text/plain": [
       "528005"
      ]
     },
     "execution_count": 12,
     "metadata": {},
     "output_type": "execute_result"
    }
   ],
   "source": [
    "# filter out empty user ID from earlier dataset exploration\n",
    "df = df.filter(df.userId != \"\")\n",
    "df.count()"
   ]
  },
  {
   "cell_type": "code",
   "execution_count": 13,
   "metadata": {},
   "outputs": [
    {
     "name": "stdout",
     "output_type": "stream",
     "text": [
      "+---------+-----+--------------------+\n",
      "|     auth|level|                page|\n",
      "+---------+-----+--------------------+\n",
      "|Cancelled| free|Cancellation Conf...|\n",
      "|Cancelled| paid|Cancellation Conf...|\n",
      "|Logged In| free|            Settings|\n",
      "|Logged In| free|              Logout|\n",
      "|Logged In| free|                Help|\n",
      "|Logged In| paid|       Save Settings|\n",
      "|Logged In| paid|               About|\n",
      "|Logged In| free|         Thumbs Down|\n",
      "|Logged In| paid|              Logout|\n",
      "|Logged In| free|         Roll Advert|\n",
      "|Logged In| free|           Thumbs Up|\n",
      "|Logged In| paid|         Thumbs Down|\n",
      "|Logged In| paid|                Home|\n",
      "|Logged In| paid|           Thumbs Up|\n",
      "|Logged In| paid|          Add Friend|\n",
      "|Logged In| paid|    Submit Downgrade|\n",
      "|Logged In| free|            NextSong|\n",
      "|Logged In| paid|              Cancel|\n",
      "|Logged In| free|               About|\n",
      "|Logged In| free|      Submit Upgrade|\n",
      "+---------+-----+--------------------+\n",
      "only showing top 20 rows\n",
      "\n"
     ]
    }
   ],
   "source": [
    "# look at all the possible 'auth', 'level', and 'page' attributes \n",
    "df.select([\"auth\", \"level\", \"page\"]).dropDuplicates().sort(\"auth\").show()"
   ]
  },
  {
   "cell_type": "code",
   "execution_count": 14,
   "metadata": {},
   "outputs": [
    {
     "name": "stdout",
     "output_type": "stream",
     "text": [
      "+---------+--------------------+-------------+\n",
      "|     auth|                page|           ts|\n",
      "+---------+--------------------+-------------+\n",
      "|Cancelled|Cancellation Conf...|1542404708000|\n",
      "|Cancelled|Cancellation Conf...|1542206187000|\n",
      "|Cancelled|Cancellation Conf...|1542032682000|\n",
      "|Cancelled|Cancellation Conf...|1541087401000|\n",
      "|Cancelled|Cancellation Conf...|1541507600000|\n",
      "|Cancelled|Cancellation Conf...|1541302069000|\n",
      "|Cancelled|Cancellation Conf...|1539254318000|\n",
      "|Cancelled|Cancellation Conf...|1542159866000|\n",
      "|Cancelled|Cancellation Conf...|1543091855000|\n",
      "|Cancelled|Cancellation Conf...|1538507591000|\n",
      "|Cancelled|Cancellation Conf...|1543522398000|\n",
      "|Cancelled|Cancellation Conf...|1538987586000|\n",
      "|Cancelled|Cancellation Conf...|1539831896000|\n",
      "|Cancelled|Cancellation Conf...|1542360575000|\n",
      "|Cancelled|Cancellation Conf...|1541958736000|\n",
      "|Cancelled|Cancellation Conf...|1538647095000|\n",
      "|Cancelled|Cancellation Conf...|1542828929000|\n",
      "|Cancelled|Cancellation Conf...|1542147643000|\n",
      "|Cancelled|Cancellation Conf...|1538572635000|\n",
      "|Cancelled|Cancellation Conf...|1541948983000|\n",
      "+---------+--------------------+-------------+\n",
      "only showing top 20 rows\n",
      "\n"
     ]
    }
   ],
   "source": [
    "# look at all the possible 'auth', 'gender', and 'ts' attributes\n",
    "df.select([\"auth\", \"page\", \"ts\"]).dropDuplicates().sort(\"auth\").show()"
   ]
  },
  {
   "cell_type": "markdown",
   "metadata": {},
   "source": [
    "# Exploratory Data Analysis\n",
    "When you're working with the full dataset, perform EDA by loading a small subset of the data and doing basic manipulations within Spark. In this workspace, you are already provided a small subset of data you can explore.\n",
    "\n",
    "### Define Churn\n",
    "\n",
    "Once you've done some preliminary analysis, create a column `Churn` to use as the label for your model. I suggest using the `Cancellation Confirmation` events to define your churn, which happen for both paid and free users. As a bonus task, you can also look into the `Downgrade` events.\n",
    "\n",
    "### Explore Data\n",
    "Once you've defined churn, perform some exploratory data analysis to observe the behavior for users who stayed vs users who churned. You can start by exploring aggregates on these two groups of users, observing how much of a specific action they experienced per a certain time unit or number of songs played."
   ]
  },
  {
   "cell_type": "markdown",
   "metadata": {},
   "source": [
    "#### Defining churn as people who cancelled Sparkify (users who have \"Cancelled Confirmation\" page events)"
   ]
  },
  {
   "cell_type": "code",
   "execution_count": 15,
   "metadata": {},
   "outputs": [
    {
     "data": {
      "text/plain": [
       "[Row(page='About'),\n",
       " Row(page='Add Friend'),\n",
       " Row(page='Add to Playlist'),\n",
       " Row(page='Cancel'),\n",
       " Row(page='Cancellation Confirmation'),\n",
       " Row(page='Downgrade'),\n",
       " Row(page='Error'),\n",
       " Row(page='Help'),\n",
       " Row(page='Home'),\n",
       " Row(page='Logout'),\n",
       " Row(page='NextSong'),\n",
       " Row(page='Roll Advert'),\n",
       " Row(page='Save Settings'),\n",
       " Row(page='Settings'),\n",
       " Row(page='Submit Downgrade'),\n",
       " Row(page='Submit Upgrade'),\n",
       " Row(page='Thumbs Down'),\n",
       " Row(page='Thumbs Up'),\n",
       " Row(page='Upgrade')]"
      ]
     },
     "execution_count": 15,
     "metadata": {},
     "output_type": "execute_result"
    }
   ],
   "source": [
    "df.select([\"page\"]).dropDuplicates().sort(\"page\").collect()"
   ]
  },
  {
   "cell_type": "markdown",
   "metadata": {},
   "source": [
    "#### Cells below are for exploring the data"
   ]
  },
  {
   "cell_type": "code",
   "execution_count": 16,
   "metadata": {},
   "outputs": [],
   "source": [
    "# function for converting Row object to string\n",
    "convert_row_to_string = lambda x, y: x.asDict()[y]\n",
    "\n",
    "# function for plotting distribution\n",
    "def plot(dfList, attr: str):\n",
    "    fig, ax = plt.subplots(1, 2, figsize=(20, 10))\n",
    "    for i, (df, auth) in enumerate(zip(dfList, ['Churned Users', 'Stayed Users'])):\n",
    "        plot = sns.countplot(x=attr, data=df, ax=ax[i])\n",
    "        ax[i].set_title(auth)\n",
    "        for p in plot.patches:\n",
    "            plot.annotate(p.get_height(), (p.get_x() + p.get_width() / 2, p.get_height()), ha = 'center', \\\n",
    "                          va = 'center', xytext = (0, 10), textcoords = 'offset points')"
   ]
  },
  {
   "cell_type": "code",
   "execution_count": 17,
   "metadata": {},
   "outputs": [
    {
     "name": "stdout",
     "output_type": "stream",
     "text": [
      "Unique user events:  ['About', 'Add Friend', 'Add to Playlist', 'Cancel', 'Cancellation Confirmation', 'Downgrade', 'Error', 'Help', 'Home', 'Logout', 'NextSong', 'Roll Advert', 'Save Settings', 'Settings', 'Submit Downgrade', 'Submit Upgrade', 'Thumbs Down', 'Thumbs Up', 'Upgrade']\n",
      "# of unique pages:  19\n"
     ]
    }
   ],
   "source": [
    "page = df.select([\"page\"]).dropDuplicates().sort(\"page\").collect()\n",
    "pageList = list(map(convert_row_to_string, page, ['page' for i in range(len(page))]))\n",
    "print(\"Unique user events: \", pageList)\n",
    "print(\"# of unique pages: \", len(pageList))"
   ]
  },
  {
   "cell_type": "code",
   "execution_count": 18,
   "metadata": {},
   "outputs": [
    {
     "name": "stdout",
     "output_type": "stream",
     "text": [
      "# of unique users in Sparkify: 448\n"
     ]
    }
   ],
   "source": [
    "users = df.select([\"userId\"]).dropDuplicates().sort(\"userId\").collect()\n",
    "usersList = list(map(convert_row_to_string, users, ['userId' for i in range(len(users))]))\n",
    "print(\"# of unique users in Sparkify: %d\" % len(usersList))"
   ]
  },
  {
   "cell_type": "code",
   "execution_count": 19,
   "metadata": {},
   "outputs": [
    {
     "name": "stdout",
     "output_type": "stream",
     "text": [
      "Unique users who churned:  ['10', '100001', '100003', '100004', '100005', '100010', '100011', '100012', '100013', '100014', '100016', '100017', '100018', '100023', '100024', '100025', '100028', '100030', '100032', '100036', '100038', '100040', '100041', '100042', '100043', '100044', '100045', '100047', '100048', '100049', '100051', '11', '118', '120', '123', '124', '126', '13', '130', '131', '132', '140', '154', '156', '16', '162', '164', '167', '172', '18', '187', '188', '189', '196', '198', '200', '200002', '200008', '200013', '200016', '200020', '200021', '200023', '200024', '200027', '200028', '200037', '200039', '200041', '200045', '200050', '208', '214', '221', '223', '231', '234', '236', '246', '265', '271', '28', '288', '293', '296', '300004', '300047', '32', '34', '39', '41', '45', '51', '54', '61', '81', '85', '88', '89']\n",
      "# of unique users who churned:  99\n"
     ]
    }
   ],
   "source": [
    "# users who churned\n",
    "churn_users = df.filter(df.auth == \"Cancelled\").groupby(df.userId).count().orderBy(df.userId).collect()\n",
    "churn_users_list = list(map(convert_row_to_string, churn_users, ['userId' for i in range(len(churn_users))]))\n",
    "print(\"Unique users who churned: \", churn_users_list)\n",
    "print(\"# of unique users who churned: \", len(churn_users_list))"
   ]
  },
  {
   "cell_type": "code",
   "execution_count": 20,
   "metadata": {},
   "outputs": [
    {
     "name": "stdout",
     "output_type": "stream",
     "text": [
      "Unique users who stayed:  ['100', '100002', '100006', '100007', '100008', '100009', '100015', '100019', '100020', '100021', '100022', '100026', '100027', '100029', '100031', '100033', '100034', '100035', '100037', '100039', '100046', '100050', '101', '102', '103', '104', '105', '106', '107', '108', '109', '110', '111', '112', '113', '114', '115', '116', '117', '119', '12', '121', '122', '125', '127', '128', '129', '133', '134', '135', '136', '137', '138', '139', '14', '141', '142', '143', '144', '145', '146', '147', '148', '149', '15', '150', '151', '152', '153', '155', '157', '158', '159', '160', '161', '163', '165', '166', '168', '169', '17', '170', '171', '173', '174', '175', '176', '177', '178', '179', '180', '181', '182', '183', '184', '185', '186', '19', '190', '191', '192', '193', '194', '195', '197', '199', '2', '20', '200001', '200003', '200004', '200005', '200006', '200007', '200009', '200010', '200011', '200012', '200014', '200015', '200017', '200018', '200019', '200022', '200025', '200026', '200029', '200030', '200031', '200033', '200034', '200035', '200036', '200038', '200040', '200042', '200043', '200044', '200046', '200047', '200048', '200049', '201', '202', '203', '204', '205', '206', '207', '209', '21', '210', '211', '212', '213', '215', '216', '217', '218', '219', '22', '220', '222', '224', '225', '226', '227', '228', '23', '230', '232', '233', '235', '237', '238', '239', '24', '240', '241', '242', '244', '245', '247', '248', '25', '250', '251', '252', '253', '254', '255', '256', '257', '258', '259', '26', '260', '261', '262', '263', '264', '266', '267', '268', '269', '27', '270', '272', '273', '274', '275', '276', '277', '278', '279', '280', '281', '282', '283', '284', '285', '286', '287', '289', '29', '290', '291', '292', '294', '295', '297', '298', '299', '3', '30', '300', '300001', '300002', '300003', '300005', '300006', '300007', '300008', '300009', '300010', '300011', '300012', '300013', '300014', '300015', '300016', '300017', '300018', '300019', '300020', '300021', '300022', '300023', '300024', '300025', '300026', '300027', '300028', '300029', '300030', '300031', '300032', '300033', '300034', '300035', '300036', '300037', '300038', '300039', '300040', '300041', '300042', '300043', '300044', '300045', '300046', '300048', '300049', '300050', '300051', '301', '302', '305', '33', '35', '36', '37', '38', '4', '40', '42', '43', '44', '46', '47', '48', '49', '5', '50', '52', '53', '55', '56', '57', '58', '59', '6', '60', '62', '63', '64', '65', '66', '67', '68', '69', '7', '70', '71', '72', '73', '74', '75', '76', '77', '78', '79', '8', '80', '82', '83', '86', '87', '9', '90', '91', '92', '93', '94', '95', '96', '97', '98', '99']\n",
      "# of unique users who stayed:  349\n"
     ]
    }
   ],
   "source": [
    "# users who stayed\n",
    "users_who_stayed = [u for u in usersList if not u in churn_users_list]\n",
    "print(\"Unique users who stayed: \", users_who_stayed)\n",
    "print(\"# of unique users who stayed: \", len(users_who_stayed))"
   ]
  },
  {
   "cell_type": "code",
   "execution_count": 21,
   "metadata": {},
   "outputs": [],
   "source": [
    "# dataframes of churned and stayed users for 'level' attribute\n",
    "df_level_churn = df.filter(df.auth == 'Cancelled').select(['auth', 'level']).toPandas()\n",
    "df_level_login = df.filter((df.auth == 'Logged In') & (col(\"userId\").isin(users_who_stayed))).select(['auth', 'level']).toPandas()"
   ]
  },
  {
   "cell_type": "code",
   "execution_count": 22,
   "metadata": {},
   "outputs": [
    {
     "data": {
      "image/png": "[encoded data removed]",
      "text/plain": [
       "<matplotlib.figure.Figure at 0x7f99077715f8>"
      ]
     },
     "metadata": {
      "needs_background": "light"
     },
     "output_type": "display_data"
    }
   ],
   "source": [
    "plot([df_level_churn, df_level_login], 'level')"
   ]
  },
  {
   "cell_type": "markdown",
   "metadata": {},
   "source": [
    "**Note:** From the plot above, we can clearly see that paid users tend to cancel Sparkify. However, paid users also tend to stay with Sparkify, and so we would need to look at more attributes to see how churned and stayed users behave. "
   ]
  },
  {
   "cell_type": "code",
   "execution_count": 23,
   "metadata": {},
   "outputs": [],
   "source": [
    "# plot timestamp of for churned and stayed users"
   ]
  },
  {
   "cell_type": "code",
   "execution_count": 24,
   "metadata": {},
   "outputs": [],
   "source": [
    "# convert epoch timestamps to readable timestamps\n",
    "convert_time = udf(lambda x: datetime.fromtimestamp(x/1000).strftime(\"%Y-%m-%d %H:%M:%S\"))\n",
    "df = df.withColumn(\"time\", convert_time(df.ts))"
   ]
  },
  {
   "cell_type": "code",
   "execution_count": 25,
   "metadata": {},
   "outputs": [
    {
     "name": "stdout",
     "output_type": "stream",
     "text": [
      "+------+---------+-------------------+-----+--------------------+\n",
      "|userId|     auth|               time|level|                page|\n",
      "+------+---------+-------------------+-----+--------------------+\n",
      "|100003|Cancelled|2018-11-08 07:19:52| paid|Cancellation Conf...|\n",
      "|   162|Cancelled|2018-11-12 20:43:41| paid|Cancellation Conf...|\n",
      "|   124|Cancelled|2018-11-11 15:09:43| paid|Cancellation Conf...|\n",
      "|   187|Cancelled|2018-10-10 23:11:31| free|Cancellation Conf...|\n",
      "|   132|Cancelled|2018-10-08 23:31:53| paid|Cancellation Conf...|\n",
      "|   188|Cancelled|2018-11-16 21:45:08| paid|Cancellation Conf...|\n",
      "|    11|Cancelled|2018-11-24 00:22:02| paid|Cancellation Conf...|\n",
      "|   288|Cancelled|2018-11-15 03:59:41| paid|Cancellation Conf...|\n",
      "|    18|Cancelled|2018-11-29 20:13:18| paid|Cancellation Conf...|\n",
      "|   246|Cancelled|2018-11-04 23:33:04| paid|Cancellation Conf...|\n",
      "|300004|Cancelled|2018-10-28 00:02:40| paid|Cancellation Conf...|\n",
      "|100048|Cancelled|2018-11-09 02:48:07| paid|Cancellation Conf...|\n",
      "|   234|Cancelled|2018-11-01 15:50:01| paid|Cancellation Conf...|\n",
      "|    61|Cancelled|2018-11-11 12:28:10| paid|Cancellation Conf...|\n",
      "|   123|Cancelled|2018-10-08 00:38:01| free|Cancellation Conf...|\n",
      "|   265|Cancelled|2018-11-15 07:57:41| free|Cancellation Conf...|\n",
      "|100010|Cancelled|2018-10-11 10:38:38| free|Cancellation Conf...|\n",
      "|100017|Cancelled|2018-11-13 13:53:46| free|Cancellation Conf...|\n",
      "|    85|Cancelled|2018-11-30 09:27:17| paid|Cancellation Conf...|\n",
      "|    81|Cancelled|2018-11-28 21:36:34| paid|Cancellation Conf...|\n",
      "+------+---------+-------------------+-----+--------------------+\n",
      "only showing top 20 rows\n",
      "\n"
     ]
    }
   ],
   "source": [
    "df.select([\"userId\", \"auth\", \"time\", \"level\", \"page\"]).dropDuplicates().sort(\"auth\").show()"
   ]
  },
  {
   "cell_type": "code",
   "execution_count": 26,
   "metadata": {},
   "outputs": [],
   "source": [
    "# lambda functions for getting hour and weekday from 'time' attribute\n",
    "get_hour = udf(lambda x: datetime.fromtimestamp(x/1000).hour)\n",
    "get_day = udf(lambda x: datetime.fromtimestamp(x/1000).isoweekday())"
   ]
  },
  {
   "cell_type": "code",
   "execution_count": 27,
   "metadata": {},
   "outputs": [],
   "source": [
    "df = df.withColumn(\"hour\", get_hour(df.ts))\n",
    "df = df.withColumn(\"day\", get_day(df.ts))"
   ]
  },
  {
   "cell_type": "code",
   "execution_count": 28,
   "metadata": {},
   "outputs": [
    {
     "name": "stdout",
     "output_type": "stream",
     "text": [
      "+------+---------+-------------------+----+---+\n",
      "|userId|     auth|               time|hour|day|\n",
      "+------+---------+-------------------+----+---+\n",
      "|200013|Cancelled|2018-11-05 09:06:33|   9|  1|\n",
      "|100012|Cancelled|2018-11-06 14:35:50|  14|  2|\n",
      "|100043|Cancelled|2018-11-09 11:16:06|  11|  5|\n",
      "|100025|Cancelled|2018-11-06 12:53:40|  12|  2|\n",
      "|    81|Cancelled|2018-11-28 21:36:34|  21|  3|\n",
      "|   124|Cancelled|2018-11-11 15:09:43|  15|  7|\n",
      "|   221|Cancelled|2018-11-12 18:56:54|  18|  1|\n",
      "|   123|Cancelled|2018-10-08 00:38:01|   0|  1|\n",
      "|100040|Cancelled|2018-11-05 00:58:58|   0|  1|\n",
      "|100036|Cancelled|2018-10-05 16:54:30|  16|  5|\n",
      "|200024|Cancelled|2018-11-14 10:32:43|  10|  3|\n",
      "|200039|Cancelled|2018-11-16 09:29:35|   9|  5|\n",
      "|100017|Cancelled|2018-11-13 13:53:46|  13|  2|\n",
      "|   246|Cancelled|2018-11-04 23:33:04|  23|  7|\n",
      "|100048|Cancelled|2018-11-09 02:48:07|   2|  5|\n",
      "|200016|Cancelled|2018-10-05 20:23:34|  20|  5|\n",
      "|   296|Cancelled|2018-10-10 16:00:34|  16|  3|\n",
      "|    16|Cancelled|2018-11-02 08:31:27|   8|  5|\n",
      "|    34|Cancelled|2018-11-27 16:50:14|  16|  2|\n",
      "|    18|Cancelled|2018-11-29 20:13:18|  20|  4|\n",
      "+------+---------+-------------------+----+---+\n",
      "only showing top 20 rows\n",
      "\n"
     ]
    }
   ],
   "source": [
    "df.select([\"userId\", \"auth\", \"time\", \"hour\", \"day\"]).dropDuplicates().sort(\"auth\").show()"
   ]
  },
  {
   "cell_type": "code",
   "execution_count": 29,
   "metadata": {},
   "outputs": [],
   "source": [
    "# dataframes of churned and stayed users for 'hour' attribute\n",
    "df_hour_churn = df.filter(df.auth == 'Cancelled').select(['auth', 'hour']).toPandas()\n",
    "df_hour_login = df.filter((df.auth == 'Logged In') & (col(\"userId\").isin(users_who_stayed))).select(['auth', 'hour']).toPandas()"
   ]
  },
  {
   "cell_type": "code",
   "execution_count": 30,
   "metadata": {},
   "outputs": [
    {
     "data": {
      "image/png": "[encoded data removed]",
      "text/plain": [
       "<matplotlib.figure.Figure at 0x7f9919242e10>"
      ]
     },
     "metadata": {
      "needs_background": "light"
     },
     "output_type": "display_data"
    }
   ],
   "source": [
    "plot([df_hour_churn, df_hour_login], 'hour')"
   ]
  },
  {
   "cell_type": "markdown",
   "metadata": {},
   "source": [
    "**Note:** We can see that churned users are most active at random times of the day, such as 9am-1pm and late evening around 6pm-11pm, whereas the stayed users are somewhat active in early morning/afternoon around 8am-12pm but most active from evening to night from 2pm-12am. From the hour of the day, we can conclude that stayed users are more consistent with interacting with Sparkify throughout than churned users do.  "
   ]
  },
  {
   "cell_type": "code",
   "execution_count": 31,
   "metadata": {},
   "outputs": [],
   "source": [
    "# dataframes of churned and stayed users for 'weekday' attribute\n",
    "df_day_churn = df.filter(df.auth == 'Cancelled').select(['auth', 'day']).toPandas()\n",
    "df_day_login = df.filter((df.auth == 'Logged In') & (col(\"userId\").isin(users_who_stayed))).select(['auth', 'day']).toPandas()"
   ]
  },
  {
   "cell_type": "code",
   "execution_count": 32,
   "metadata": {},
   "outputs": [
    {
     "data": {
      "image/png": "[encoded data removed]",
      "text/plain": [
       "<matplotlib.figure.Figure at 0x7f99239597b8>"
      ]
     },
     "metadata": {
      "needs_background": "light"
     },
     "output_type": "display_data"
    }
   ],
   "source": [
    "plot([df_day_churn, df_day_login], 'day')"
   ]
  },
  {
   "cell_type": "markdown",
   "metadata": {},
   "source": [
    "**Note:** From the two plots above where 1-7 represents Monday-Sunday respectively, it is obvious that stayed users interact with Sparkify mostly on weekdays, whereas churned users interact with Sparkify mostly during early days of the week. We can also see how the sporadic the pattern is for churned users compared to stayed users.   "
   ]
  },
  {
   "cell_type": "code",
   "execution_count": 33,
   "metadata": {},
   "outputs": [],
   "source": [
    "# function to find users' frequency per page\n",
    "def get_user_counts_per_page(pages, users):\n",
    "    usersPerPage = []\n",
    "    start = time.time()\n",
    "    for page in pages:\n",
    "        usersCounts = df.filter((df.page == page) & (col(\"userId\").isin(users))) \\\n",
    "            .select('userId') \\\n",
    "            .groupBy('userId') \\\n",
    "            .agg({'userId':'count'}) \\\n",
    "            .withColumnRenamed('count(userId)', 'count').collect()\n",
    "        usersCountsList = list(map(convert_row_to_string, usersCounts, ['count' for i in range(len(usersCounts))]))\n",
    "        usersPerPage.append(usersCountsList) if usersCountsList else usersPerPage.append([0])\n",
    "    end = time.time()\n",
    "    print(\"Total time elapsed for extracting churned users' visit count per page:\", end-start, \"s\")\n",
    "    return usersPerPage\n",
    "\n",
    "# function to sort page list\n",
    "def getKey(item):\n",
    "    return item[1]"
   ]
  },
  {
   "cell_type": "code",
   "execution_count": 34,
   "metadata": {},
   "outputs": [
    {
     "name": "stdout",
     "output_type": "stream",
     "text": [
      "Total time elapsed for extracting churned users' visit count per page: 33.5034019947052 s\n",
      "# of visits per page by each churned user:\n",
      "About: 185\n",
      "Add Friend: 1537\n",
      "Add to Playlist: 2259\n",
      "Cancel: 99\n",
      "Cancellation Confirmation: 99\n",
      "Downgrade: 831\n",
      "Error: 97\n",
      "Help: 517\n",
      "Home: 3778\n",
      "Logout: 1184\n",
      "NextSong: 84359\n",
      "Roll Advert: 2186\n",
      "Save Settings: 104\n",
      "Settings: 619\n",
      "Submit Downgrade: 29\n",
      "Submit Upgrade: 70\n",
      "Thumbs Down: 1156\n",
      "Thumbs Up: 4300\n",
      "Upgrade: 237\n"
     ]
    }
   ],
   "source": [
    "churnUserPageList = []\n",
    "sum_of_page_per_churn_user = get_user_counts_per_page(pageList, churn_users_list)\n",
    "sum_of_pages = list(map(lambda counts: reduce(lambda x,y: x+y, counts), sum_of_page_per_churn_user))\n",
    "\n",
    "print(\"# of visits per page by each churned user:\")\n",
    "for i, (page, sumOfPage) in enumerate(zip(pageList, sum_of_pages)):\n",
    "    churnUserPageList.append((page, sumOfPage))\n",
    "    print(\"{0}: {1}\".format(page, sumOfPage))"
   ]
  },
  {
   "cell_type": "code",
   "execution_count": 35,
   "metadata": {},
   "outputs": [],
   "source": [
    "# sort page list from in descending order for visit frequency\n",
    "sum_of_pages.sort(reverse=True)\n",
    "churnUserPageList = sorted(churnUserPageList, key=getKey, reverse=True)\n",
    "\n",
    "sortedChurnUserPageList = []\n",
    "for pair in churnUserPageList:\n",
    "    sortedChurnUserPageList.append(pair[0])"
   ]
  },
  {
   "cell_type": "code",
   "execution_count": 36,
   "metadata": {},
   "outputs": [
    {
     "data": {
      "image/png": "[encoded data removed]",
      "text/plain": [
       "<matplotlib.figure.Figure at 0x7f990799f198>"
      ]
     },
     "metadata": {
      "needs_background": "light"
     },
     "output_type": "display_data"
    }
   ],
   "source": [
    "# Distribution of the frequency at which churned users visited each page\n",
    "fig, ax = plt.subplots(figsize=(20, 10))\n",
    "x = np.arange(len(sortedChurnUserPageList))\n",
    "width = 0.3\n",
    "\n",
    "bar = ax.bar(x - width/2, sum_of_pages, width)\n",
    "\n",
    "ax.set_ylabel(\"Frequency/Count(s)\")\n",
    "ax.set_title(\"Distribution of Churned Users' Visit Frequency Per Page\")\n",
    "ax.set_xticks(x)\n",
    "ax.set_xticklabels(sortedChurnUserPageList, rotation='vertical')\n",
    "\n",
    "for p in ax.patches:\n",
    "    ax.annotate(p.get_height(), (p.get_x() + p.get_width() / 2, p.get_height()), ha = 'center', \\\n",
    "                  va = 'center', xytext = (0, 10), textcoords = 'offset points')\n",
    "\n",
    "ax.legend()"
   ]
  },
  {
   "cell_type": "code",
   "execution_count": 37,
   "metadata": {},
   "outputs": [
    {
     "name": "stdout",
     "output_type": "stream",
     "text": [
      "Total time elapsed for extracting churned users' visit count per page: 40.85166549682617 s\n",
      "# of visits per page by each stayed user:\n",
      "About: 841\n",
      "Add Friend: 6550\n",
      "Add to Playlist: 10090\n",
      "Cancel: 0\n",
      "Cancellation Confirmation: 0\n",
      "Downgrade: 2980\n",
      "Error: 406\n",
      "Help: 2127\n",
      "Home: 15311\n",
      "Logout: 4806\n",
      "NextSong: 348518\n",
      "Roll Advert: 5587\n",
      "Save Settings: 481\n",
      "Settings: 2345\n",
      "Submit Downgrade: 88\n",
      "Submit Upgrade: 217\n",
      "Thumbs Down: 3755\n",
      "Thumbs Up: 19526\n",
      "Upgrade: 731\n"
     ]
    }
   ],
   "source": [
    "stayedUsersPageList = []\n",
    "sum_of_page_per_stayed_user = get_user_counts_per_page(pageList, users_who_stayed)\n",
    "sum_of_pages_stayed_users = list(map(lambda counts: reduce(lambda x,y: x+y, counts), sum_of_page_per_stayed_user))\n",
    "\n",
    "print(\"# of visits per page by each stayed user:\")\n",
    "for i, (page, sumOfPage) in enumerate(zip(pageList, sum_of_pages_stayed_users)):\n",
    "    stayedUsersPageList.append((page, sumOfPage))\n",
    "    print(\"{0}: {1}\".format(page, sumOfPage))"
   ]
  },
  {
   "cell_type": "code",
   "execution_count": 38,
   "metadata": {},
   "outputs": [],
   "source": [
    "# sort page list from in descending order for visit frequency\n",
    "sum_of_pages_stayed_users.sort(reverse=True)\n",
    "stayedUsersPageList = sorted(stayedUsersPageList, key=getKey, reverse=True)\n",
    "\n",
    "sortedPageListForStayedUsers = []\n",
    "for pair in stayedUsersPageList:\n",
    "    sortedPageListForStayedUsers.append(pair[0])"
   ]
  },
  {
   "cell_type": "code",
   "execution_count": 39,
   "metadata": {},
   "outputs": [
    {
     "data": {
      "image/png": "[encoded data removed]",
      "text/plain": [
       "<matplotlib.figure.Figure at 0x7f990b759588>"
      ]
     },
     "metadata": {
      "needs_background": "light"
     },
     "output_type": "display_data"
    }
   ],
   "source": [
    "# Distribution of the frequency at which churned users visited each page\n",
    "fig, ax = plt.subplots(figsize=(20, 10))\n",
    "x = np.arange(len(sortedPageListForStayedUsers))\n",
    "width = 0.3\n",
    "\n",
    "bar = ax.bar(x - width/2, sum_of_pages_stayed_users, width)\n",
    "\n",
    "ax.set_ylabel(\"Frequency/Count(s)\")\n",
    "ax.set_title(\"Distribution of Stayed Users' Visit Frequency Per Page\")\n",
    "ax.set_xticks(x)\n",
    "ax.set_xticklabels(sortedPageListForStayedUsers, rotation='vertical')\n",
    "\n",
    "for p in ax.patches:\n",
    "    ax.annotate(p.get_height(), (p.get_x() + p.get_width() / 2, p.get_height()), ha = 'center', \\\n",
    "                  va = 'center', xytext = (0, 10), textcoords = 'offset points')\n",
    "\n",
    "ax.legend()"
   ]
  },
  {
   "cell_type": "code",
   "execution_count": 40,
   "metadata": {},
   "outputs": [],
   "source": [
    "# total event visit counts of churned and stayed users\n",
    "totalCountsOfChurnUsers = reduce(lambda x, y: x+y, sum_of_pages)\n",
    "totalCountsOfStayedUsers = reduce(lambda x, y: x+y, sum_of_pages_stayed_users)"
   ]
  },
  {
   "cell_type": "code",
   "execution_count": 41,
   "metadata": {},
   "outputs": [
    {
     "name": "stdout",
     "output_type": "stream",
     "text": [
      "Relative proportion of 'Downgrade' in churned users group:  0.008017675549466453\n",
      "Relative proportion of 'Downgrade' in stayed users group:  0.007022356071156733\n",
      "Relative proportion of 'Thumbs Down' in churned users group:  0.011153348899137449\n",
      "Relative proportion of 'Thumbs Down' in stayed users group:  0.008848639948722661\n"
     ]
    }
   ],
   "source": [
    "# calculate how many counts of 'Downgrade' and 'Thumbs Down' events of stayed and cancelled users, which are usually  \n",
    "# indicators of unsatisified users, are in the total number of stayed and cancelled users \n",
    "churnDowngrade = dict(churnUserPageList)['Downgrade'] / totalCountsOfChurnUsers\n",
    "stayedDowngrade = dict(stayedUsersPageList)['Downgrade'] / totalCountsOfStayedUsers\n",
    "churnThumbsDown = dict(churnUserPageList)['Thumbs Down'] / totalCountsOfChurnUsers\n",
    "stayedThumbsDown = dict(stayedUsersPageList)['Thumbs Down'] / totalCountsOfStayedUsers\n",
    "\n",
    "print(\"Relative proportion of 'Downgrade' in churned users group: \", churnDowngrade)\n",
    "print(\"Relative proportion of 'Downgrade' in stayed users group: \", stayedDowngrade)\n",
    "print(\"Relative proportion of 'Thumbs Down' in churned users group: \", churnThumbsDown)\n",
    "print(\"Relative proportion of 'Thumbs Down' in stayed users group: \", stayedThumbsDown)"
   ]
  },
  {
   "cell_type": "code",
   "execution_count": 42,
   "metadata": {},
   "outputs": [
    {
     "name": "stdout",
     "output_type": "stream",
     "text": [
      "Relative proportion of 'Add Friend' in churned users group:  0.014829322887520984\n",
      "Relative proportion of 'Add Friend' in stayed users group:  0.015435044384589463\n",
      "Relative proportion of 'Upgrade' in churned users group:  0.002286629488837003\n",
      "Relative proportion of 'Upgrade' in stayed users group:  0.0017225980832267019\n",
      "Relative proportion of 'Add to Playlist'' in churned users group:  0.021795341836636242\n",
      "Relative proportion of 'Add to Playlist' in stayed users group:  0.023777037838245446\n",
      "Relative proportion of 'Thumbs Up' in churned users group:  0.0414873704725701\n",
      "Relative proportion of 'Thumbs Up' in stayed users group:  0.04601292773335784\n"
     ]
    }
   ],
   "source": [
    "# how many counts of 'Add Friend', 'Upgrade', 'Add to Playlist', and 'Thumbs Up' events of stayed and cancelled users, which \n",
    "# are indicators of how well users interact with the service, are in the total number of stayed and cancelled users \n",
    "churnAddF = dict(churnUserPageList)['Add Friend'] / totalCountsOfChurnUsers\n",
    "stayedAddF = dict(stayedUsersPageList)['Add Friend'] / totalCountsOfStayedUsers\n",
    "churnUpgrade = dict(churnUserPageList)['Upgrade'] / totalCountsOfChurnUsers\n",
    "stayedUpgrade = dict(stayedUsersPageList)['Upgrade'] / totalCountsOfStayedUsers\n",
    "churnAddP = dict(churnUserPageList)['Add to Playlist'] / totalCountsOfChurnUsers\n",
    "stayedAddP = dict(stayedUsersPageList)['Add to Playlist'] / totalCountsOfStayedUsers\n",
    "churnThumbsUp = dict(churnUserPageList)['Thumbs Up'] / totalCountsOfChurnUsers\n",
    "stayedThumbsUp = dict(stayedUsersPageList)['Thumbs Up'] / totalCountsOfStayedUsers\n",
    "\n",
    "print(\"Relative proportion of 'Add Friend' in churned users group: \", churnAddF)\n",
    "print(\"Relative proportion of 'Add Friend' in stayed users group: \", stayedAddF)\n",
    "print(\"Relative proportion of 'Upgrade' in churned users group: \", churnUpgrade)\n",
    "print(\"Relative proportion of 'Upgrade' in stayed users group: \", stayedUpgrade)\n",
    "print(\"Relative proportion of 'Add to Playlist'' in churned users group: \", churnAddP)\n",
    "print(\"Relative proportion of 'Add to Playlist' in stayed users group: \", stayedAddP)\n",
    "print(\"Relative proportion of 'Thumbs Up' in churned users group: \", churnThumbsUp)\n",
    "print(\"Relative proportion of 'Thumbs Up' in stayed users group: \", stayedThumbsUp)"
   ]
  },
  {
   "cell_type": "markdown",
   "metadata": {},
   "source": [
    "**Note:** From the bar graphs analyzing the user behaviors between users who stayed and churned, users who stayed and churned both like to explore different kinds of songs with their frequent interaction with the \"NextSong\" and \"Home\" events. However, when we look at indicators that show the potential unsatisfaction from the users about the service, we can see how churned users tend to downgrade and commit a 'Thumbs Down' event more frequently than stayed users do, as calculated in the cells above. Also, I used events, such as 'Add Friend', 'Upgrade', 'Add to Playlist', and 'Thumbs Up', as indicators about how well the users interact with the service, and the results calculated above show that stayed users commit 'Add Friend', 'Add to Playlist', and 'Thumbs Up' events more frequently than churned users, except for 'Upgrade'. I believe that even though churned users upgrade their service more, but were unsatisfied with the service which led to their eventual cancellation of the service.       "
   ]
  },
  {
   "cell_type": "markdown",
   "metadata": {},
   "source": [
    "# Feature Engineering\n",
    "Once you've familiarized yourself with the data, build out the features you find promising to train your model on. To work with the full dataset, you can follow the following steps.\n",
    "- Write a script to extract the necessary features from the smaller subset of data\n",
    "- Ensure that your script is scalable, using the best practices discussed in Lesson 3\n",
    "- Try your script on the full data set, debugging your script if necessary\n",
    "\n",
    "If you are working in the classroom workspace, you can just extract features based on the small subset of data contained here. Be sure to transfer over this work to the larger dataset when you work on your Spark cluster."
   ]
  },
  {
   "cell_type": "code",
   "execution_count": 43,
   "metadata": {},
   "outputs": [
    {
     "name": "stdout",
     "output_type": "stream",
     "text": [
      "+---------+-------------+-----+------+---------------+---------+------+-------------+------+-------------------+----+---+\n",
      "|     auth|itemInSession|level|method|           page|sessionId|status|           ts|userId|               time|hour|day|\n",
      "+---------+-------------+-----+------+---------------+---------+------+-------------+------+-------------------+----+---+\n",
      "|Logged In|           20| free|   PUT|       NextSong|      292|   200|1538352011000|   293|2018-10-01 00:00:11|   0|  1|\n",
      "|Logged In|           74| free|   PUT|       NextSong|       97|   200|1538352025000|    98|2018-10-01 00:00:25|   0|  1|\n",
      "|Logged In|          184| paid|   PUT|       NextSong|      178|   200|1538352118000|   179|2018-10-01 00:01:58|   0|  1|\n",
      "|Logged In|          185| paid|   PUT|         Logout|      178|   307|1538352119000|   179|2018-10-01 00:01:59|   0|  1|\n",
      "|Logged In|           22| paid|   PUT|       NextSong|      245|   200|1538352124000|   246|2018-10-01 00:02:04|   0|  1|\n",
      "|Logged In|          266| paid|   PUT|       NextSong|      162|   200|1538352125000|   163|2018-10-01 00:02:05|   0|  1|\n",
      "|Logged In|          190| paid|   GET|           Home|      178|   200|1538352176000|   179|2018-10-01 00:02:56|   0|  1|\n",
      "|Logged In|          107| free|   PUT|       NextSong|      442|   200|1538352215000|   175|2018-10-01 00:03:35|   0|  1|\n",
      "|Logged In|            0| free|   GET|           Home|      497|   200|1538352241000|   100|2018-10-01 00:04:01|   0|  1|\n",
      "|Logged In|            1| free|   PUT|       NextSong|      497|   200|1538352259000|   100|2018-10-01 00:04:19|   0|  1|\n",
      "|Logged In|          267| paid|   PUT|       NextSong|      162|   200|1538352263000|   163|2018-10-01 00:04:23|   0|  1|\n",
      "|Logged In|           23| paid|   PUT|       NextSong|      245|   200|1538352318000|   246|2018-10-01 00:05:18|   0|  1|\n",
      "|Logged In|          191| paid|   PUT|       NextSong|      178|   200|1538352320000|   179|2018-10-01 00:05:20|   0|  1|\n",
      "|Logged In|           83| free|   PUT|       NextSong|       38|   200|1538352323000|    39|2018-10-01 00:05:23|   0|  1|\n",
      "|Logged In|          268| paid|   GET|      Downgrade|      162|   200|1538352336000|   163|2018-10-01 00:05:36|   0|  1|\n",
      "|Logged In|          192| paid|   PUT|Add to Playlist|      178|   200|1538352376000|   179|2018-10-01 00:06:16|   0|  1|\n",
      "|Logged In|           75| free|   PUT|       NextSong|       97|   200|1538352405000|    98|2018-10-01 00:06:45|   0|  1|\n",
      "|Logged In|          108| free|   PUT|       NextSong|      442|   200|1538352435000|   175|2018-10-01 00:07:15|   0|  1|\n",
      "|Logged In|           76| free|   GET|    Roll Advert|       97|   200|1538352435000|    98|2018-10-01 00:07:15|   0|  1|\n",
      "|Logged In|            2| free|   PUT|       NextSong|      497|   200|1538352460000|   100|2018-10-01 00:07:40|   0|  1|\n",
      "+---------+-------------+-----+------+---------------+---------+------+-------------+------+-------------------+----+---+\n",
      "only showing top 20 rows\n",
      "\n"
     ]
    }
   ],
   "source": [
    "df.show()"
   ]
  },
  {
   "cell_type": "code",
   "execution_count": 44,
   "metadata": {},
   "outputs": [
    {
     "name": "stdout",
     "output_type": "stream",
     "text": [
      "+-------------+-----+---------------+------+-------------------+----+---+\n",
      "|itemInSession|level|           page|userId|               time|hour|day|\n",
      "+-------------+-----+---------------+------+-------------------+----+---+\n",
      "|           20| free|       NextSong|   293|2018-10-01 00:00:11|   0|  1|\n",
      "|           74| free|       NextSong|    98|2018-10-01 00:00:25|   0|  1|\n",
      "|          184| paid|       NextSong|   179|2018-10-01 00:01:58|   0|  1|\n",
      "|          185| paid|         Logout|   179|2018-10-01 00:01:59|   0|  1|\n",
      "|           22| paid|       NextSong|   246|2018-10-01 00:02:04|   0|  1|\n",
      "|          266| paid|       NextSong|   163|2018-10-01 00:02:05|   0|  1|\n",
      "|          190| paid|           Home|   179|2018-10-01 00:02:56|   0|  1|\n",
      "|          107| free|       NextSong|   175|2018-10-01 00:03:35|   0|  1|\n",
      "|            0| free|           Home|   100|2018-10-01 00:04:01|   0|  1|\n",
      "|            1| free|       NextSong|   100|2018-10-01 00:04:19|   0|  1|\n",
      "|          267| paid|       NextSong|   163|2018-10-01 00:04:23|   0|  1|\n",
      "|           23| paid|       NextSong|   246|2018-10-01 00:05:18|   0|  1|\n",
      "|          191| paid|       NextSong|   179|2018-10-01 00:05:20|   0|  1|\n",
      "|           83| free|       NextSong|    39|2018-10-01 00:05:23|   0|  1|\n",
      "|          268| paid|      Downgrade|   163|2018-10-01 00:05:36|   0|  1|\n",
      "|          192| paid|Add to Playlist|   179|2018-10-01 00:06:16|   0|  1|\n",
      "|           75| free|       NextSong|    98|2018-10-01 00:06:45|   0|  1|\n",
      "|          108| free|       NextSong|   175|2018-10-01 00:07:15|   0|  1|\n",
      "|           76| free|    Roll Advert|    98|2018-10-01 00:07:15|   0|  1|\n",
      "|            2| free|       NextSong|   100|2018-10-01 00:07:40|   0|  1|\n",
      "+-------------+-----+---------------+------+-------------------+----+---+\n",
      "only showing top 20 rows\n",
      "\n"
     ]
    }
   ],
   "source": [
    "# Remove the attributes not considered for classification\n",
    "df = df.drop(*['auth', 'method', 'sessionId', 'ts', 'status'])\n",
    "df.show()"
   ]
  },
  {
   "cell_type": "markdown",
   "metadata": {},
   "source": [
    "### Define features"
   ]
  },
  {
   "cell_type": "code",
   "execution_count": 45,
   "metadata": {},
   "outputs": [],
   "source": [
    "# 'free' or 'paid' levels for each user\n",
    "df_free = df.filter(df.level == 'free') \\\n",
    "               .select(['userId', 'level']) \\\n",
    "               .dropDuplicates().withColumnRenamed('level', 'freeLevel')\n",
    "df_paid = df.filter(df.level == 'paid') \\\n",
    "               .select(['userId', 'level']) \\\n",
    "               .dropDuplicates().withColumnRenamed('level', 'paidLevel')"
   ]
  },
  {
   "cell_type": "code",
   "execution_count": 46,
   "metadata": {},
   "outputs": [],
   "source": [
    "# initial set up of joined feature DF list\n",
    "df_processed = df_free.join(df_paid, ['userId'], how='full')"
   ]
  },
  {
   "cell_type": "code",
   "execution_count": 47,
   "metadata": {},
   "outputs": [],
   "source": [
    "# visit frequency of each page by each user and join with 'df_processed' DF\n",
    "pageDFList = []\n",
    "\n",
    "for page in pageList:\n",
    "    df_temp = df.filter(df.page == page) \\\n",
    "               .select(['userId', 'page']) \\\n",
    "               .groupBy('userId') \\\n",
    "               .agg({'page': 'count'}).withColumnRenamed('count(page)', '{0}Counts'.format(page.replace(\" \", \"\")))\n",
    "    pageDFList.append(df_temp)"
   ]
  },
  {
   "cell_type": "code",
   "execution_count": 48,
   "metadata": {},
   "outputs": [],
   "source": [
    "# visit frequency of each quarter of the day by each user\n",
    "firstQCond = (df.hour == 0) | (df.hour == 1) | (df.hour == 2) | (df.hour == 3) | (df.hour == 4) | (df.hour == 5)\n",
    "secondQCond = (df.hour == 6) | (df.hour == 7) | (df.hour == 8) | (df.hour == 9) | (df.hour == 10) | (df.hour == 11)\n",
    "thirdQCond = (df.hour == 12) | (df.hour == 13) | (df.hour == 14) | (df.hour == 15) | (df.hour == 16) | (df.hour == 17)\n",
    "fourthQCond = (df.hour == 18) | (df.hour == 19) | (df.hour == 20) | (df.hour == 21) | (df.hour == 22) | (df.hour == 23)\n",
    "\n",
    "hourDFList = []\n",
    "\n",
    "for i, cond in enumerate([firstQCond, secondQCond, thirdQCond, fourthQCond], 1): \n",
    "    df_temp = df.filter(cond) \\\n",
    "               .select(['userId', 'hour']) \\\n",
    "               .groupBy('userId') \\\n",
    "               .agg({'hour': 'count'}).withColumnRenamed('count(hour)', '{0}QDayCounts'.format(str(i)))\n",
    "    hourDFList.append(df_temp)"
   ]
  },
  {
   "cell_type": "code",
   "execution_count": 49,
   "metadata": {},
   "outputs": [],
   "source": [
    "# visit frequency of weekdays and weekends by each user\n",
    "weekDayCond = (df.day == 1) | (df.day == 2) | (df.day == 3) | (df.day == 4) | (df.day == 5)\n",
    "weekendCond = (df.day == 6) | (df.day == 7)\n",
    "\n",
    "dayDFList = []\n",
    "\n",
    "df_weekday = df.filter(weekDayCond) \\\n",
    "               .select(['userId', 'day']) \\\n",
    "               .groupBy('userId') \\\n",
    "               .agg({'day': 'count'}).withColumnRenamed('count(day)', 'weekdayCounts')\n",
    "\n",
    "df_weekend = df.filter(weekendCond) \\\n",
    "               .select(['userId', 'day']) \\\n",
    "               .groupBy('userId') \\\n",
    "               .agg({'day': 'count'}).withColumnRenamed('count(day)', 'weekendCounts')\n",
    "\n",
    "dayDFList.append(df_weekday)\n",
    "dayDFList.append(df_weekend)"
   ]
  },
  {
   "cell_type": "code",
   "execution_count": 50,
   "metadata": {},
   "outputs": [],
   "source": [
    "# list of feature DFs\n",
    "featuresDFList = []\n",
    "\n",
    "for f in [pageDFList, hourDFList, dayDFList]:\n",
    "    featuresDFList.extend(f) "
   ]
  },
  {
   "cell_type": "code",
   "execution_count": 51,
   "metadata": {},
   "outputs": [
    {
     "data": {
      "text/plain": [
       "[DataFrame[userId: string, AboutCounts: bigint],\n",
       " DataFrame[userId: string, AddFriendCounts: bigint],\n",
       " DataFrame[userId: string, AddtoPlaylistCounts: bigint],\n",
       " DataFrame[userId: string, CancelCounts: bigint],\n",
       " DataFrame[userId: string, CancellationConfirmationCounts: bigint],\n",
       " DataFrame[userId: string, DowngradeCounts: bigint],\n",
       " DataFrame[userId: string, ErrorCounts: bigint],\n",
       " DataFrame[userId: string, HelpCounts: bigint],\n",
       " DataFrame[userId: string, HomeCounts: bigint],\n",
       " DataFrame[userId: string, LogoutCounts: bigint],\n",
       " DataFrame[userId: string, NextSongCounts: bigint],\n",
       " DataFrame[userId: string, RollAdvertCounts: bigint],\n",
       " DataFrame[userId: string, SaveSettingsCounts: bigint],\n",
       " DataFrame[userId: string, SettingsCounts: bigint],\n",
       " DataFrame[userId: string, SubmitDowngradeCounts: bigint],\n",
       " DataFrame[userId: string, SubmitUpgradeCounts: bigint],\n",
       " DataFrame[userId: string, ThumbsDownCounts: bigint],\n",
       " DataFrame[userId: string, ThumbsUpCounts: bigint],\n",
       " DataFrame[userId: string, UpgradeCounts: bigint],\n",
       " DataFrame[userId: string, 1QDayCounts: bigint],\n",
       " DataFrame[userId: string, 2QDayCounts: bigint],\n",
       " DataFrame[userId: string, 3QDayCounts: bigint],\n",
       " DataFrame[userId: string, 4QDayCounts: bigint],\n",
       " DataFrame[userId: string, weekdayCounts: bigint],\n",
       " DataFrame[userId: string, weekendCounts: bigint]]"
      ]
     },
     "execution_count": 51,
     "metadata": {},
     "output_type": "execute_result"
    }
   ],
   "source": [
    "featuresDFList"
   ]
  },
  {
   "cell_type": "code",
   "execution_count": 52,
   "metadata": {},
   "outputs": [],
   "source": [
    "# generate new DF for classification with feature DFs list\n",
    "for f in featuresDFList:\n",
    "    df_processed = df_processed.join(f, ['userId'], how='full')"
   ]
  },
  {
   "cell_type": "code",
   "execution_count": 53,
   "metadata": {},
   "outputs": [
    {
     "name": "stdout",
     "output_type": "stream",
     "text": [
      "+------+---------+---------+-----------+---------------+-------------------+------------+------------------------------+---------------+-----------+----------+----------+------------+--------------+----------------+------------------+--------------+---------------------+-------------------+----------------+--------------+-------------+-----------+-----------+-----------+-----------+-------------+-------------+\n",
      "|userId|freeLevel|paidLevel|AboutCounts|AddFriendCounts|AddtoPlaylistCounts|CancelCounts|CancellationConfirmationCounts|DowngradeCounts|ErrorCounts|HelpCounts|HomeCounts|LogoutCounts|NextSongCounts|RollAdvertCounts|SaveSettingsCounts|SettingsCounts|SubmitDowngradeCounts|SubmitUpgradeCounts|ThumbsDownCounts|ThumbsUpCounts|UpgradeCounts|1QDayCounts|2QDayCounts|3QDayCounts|4QDayCounts|weekdayCounts|weekendCounts|\n",
      "+------+---------+---------+-----------+---------------+-------------------+------------+------------------------------+---------------+-----------+----------+----------+------------+--------------+----------------+------------------+--------------+---------------------+-------------------+----------------+--------------+-------------+-----------+-----------+-----------+-----------+-------------+-------------+\n",
      "|100010|     free|     null|       null|              3|                  1|           1|                             1|           null|       null|      null|         3|           1|            96|              22|              null|          null|                 null|               null|               3|             4|            2|       null|        110|         27|       null|          137|         null|\n",
      "|200002|     free|     paid|          1|              2|                  6|           1|                             1|              3|       null|         1|        23|          11|           310|              11|              null|             2|                 null|                  1|               5|            15|            2|         93|         14|        190|         98|          341|           54|\n",
      "|   296|     free|     paid|       null|              2|                  3|           1|                             1|              1|       null|         2|         7|           3|           112|               9|              null|             1|                 null|                  1|            null|             8|            1|       null|         66|         61|         25|          152|         null|\n",
      "|   125|     free|     null|       null|              3|                  2|        null|                          null|           null|       null|         2|         2|        null|            62|               6|              null|             3|                 null|               null|               1|             3|         null|       null|          8|         70|          6|           84|         null|\n",
      "|   124|     null|     paid|          3|             26|                 45|           1|                             1|             21|       null|        10|        70|          17|          1826|               1|                 3|            15|                 null|               null|              15|           102|         null|        405|        413|        640|        698|         1467|          689|\n",
      "|    51|     null|     paid|       null|              3|                  8|           1|                             1|              4|          2|      null|        17|           6|           266|               1|              null|             2|                 null|               null|               1|            16|         null|         59|        164|         93|         12|          285|           43|\n",
      "|     7|     free|     null|          2|             16|                  6|        null|                          null|           null|       null|         3|        36|          11|           462|              35|                 2|             5|                 null|               null|               4|            12|            6|        165|        111|        191|        133|          586|           14|\n",
      "|200037|     free|     null|          1|              2|                  4|           1|                             1|           null|       null|      null|         6|        null|           122|               9|              null|             1|                 null|               null|               3|             5|         null|         80|       null|         60|         15|          123|           32|\n",
      "|   169|     free|     null|       null|              6|               null|        null|                          null|           null|       null|      null|         6|        null|           112|              13|                 1|             3|                 null|               null|            null|             6|            2|       null|         39|         48|         62|          149|         null|\n",
      "|   205|     null|     paid|          3|             21|                 25|        null|                          null|             10|          1|        11|        43|          17|          1048|            null|                 2|             3|                 null|               null|              10|            50|         null|        361|        218|        286|        379|         1140|          104|\n",
      "|   272|     free|     null|       null|           null|                  3|        null|                          null|           null|       null|      null|         5|           2|            97|              12|              null|          null|                 null|               null|               4|             7|            1|         11|         53|         67|       null|           67|           64|\n",
      "|    15|     null|     paid|          3|             32|                 57|        null|                          null|             26|          1|        12|        66|          20|          1835|            null|              null|            12|                 null|               null|              16|            93|         null|        585|        430|        420|        738|         1810|          363|\n",
      "|   232|     free|     paid|          6|             43|                 61|        null|                          null|             14|          1|        21|        95|          30|          1876|              38|                 4|            13|                    1|                  2|              17|            97|            6|        445|        705|        624|        551|         1879|          446|\n",
      "|   234|     free|     paid|          3|             17|                 51|           1|                             1|             14|          2|         7|        64|          22|          1674|              30|                 2|            17|                 null|                  1|              22|            91|            2|        512|        449|        426|        634|         1858|          163|\n",
      "|   282|     free|     paid|          6|             79|                 66|        null|                          null|             19|          4|        19|       110|          34|          2629|              37|                 3|            17|                 null|                  1|              29|           133|            5|        884|        533|        849|        925|         2754|          437|\n",
      "|    54|     null|     paid|          2|             20|                 15|           1|                             1|              5|       null|         2|        20|           5|           517|            null|              null|             3|                 null|               null|               7|            26|         null|        222|        104|        192|        106|          391|          233|\n",
      "|   155|     null|     paid|       null|           null|                  4|        null|                          null|              1|          1|         1|        11|           3|           140|            null|                 2|             2|                 null|               null|            null|             7|         null|         26|         69|       null|         77|           91|           81|\n",
      "|200043|     free|     paid|       null|             12|                 23|        null|                          null|              1|       null|         3|        29|          12|           615|              41|                 2|            10|                 null|                  1|              22|            33|            4|         74|        242|        306|        186|          698|          110|\n",
      "|100014|     null|     paid|       null|              3|                 11|           1|                             1|              9|       null|         2|        18|           6|           332|               3|              null|             3|                 null|               null|               3|            14|         null|        117|         57|        132|        100|          178|          228|\n",
      "|   132|     free|     paid|          1|              4|                  4|           1|                             1|              2|       null|      null|         4|           1|           113|               5|              null|          null|                 null|                  1|               1|             4|            2|       null|         55|         85|          4|          144|         null|\n",
      "+------+---------+---------+-----------+---------------+-------------------+------------+------------------------------+---------------+-----------+----------+----------+------------+--------------+----------------+------------------+--------------+---------------------+-------------------+----------------+--------------+-------------+-----------+-----------+-----------+-----------+-------------+-------------+\n",
      "only showing top 20 rows\n",
      "\n"
     ]
    }
   ],
   "source": [
    "df_processed.show()"
   ]
  },
  {
   "cell_type": "code",
   "execution_count": 54,
   "metadata": {},
   "outputs": [
    {
     "data": {
      "text/plain": [
       "userId                              0\n",
       "freeLevel                          78\n",
       "paidLevel                         127\n",
       "AboutCounts                       157\n",
       "AddFriendCounts                    39\n",
       "AddtoPlaylistCounts                20\n",
       "CancelCounts                      349\n",
       "CancellationConfirmationCounts    349\n",
       "DowngradeCounts                   147\n",
       "ErrorCounts                       225\n",
       "HelpCounts                         88\n",
       "HomeCounts                          8\n",
       "LogoutCounts                       22\n",
       "NextSongCounts                      0\n",
       "RollAdvertCounts                   53\n",
       "SaveSettingsCounts                206\n",
       "SettingsCounts                     69\n",
       "SubmitDowngradeCounts             351\n",
       "SubmitUpgradeCounts               215\n",
       "ThumbsDownCounts                   59\n",
       "ThumbsUpCounts                      9\n",
       "UpgradeCounts                     133\n",
       "1QDayCounts                        54\n",
       "2QDayCounts                        48\n",
       "3QDayCounts                        22\n",
       "4QDayCounts                        30\n",
       "weekdayCounts                       1\n",
       "weekendCounts                     108\n",
       "dtype: int64"
      ]
     },
     "execution_count": 54,
     "metadata": {},
     "output_type": "execute_result"
    }
   ],
   "source": [
    "null_number = df_processed.toPandas().isnull().sum()\n",
    "null_number"
   ]
  },
  {
   "cell_type": "code",
   "execution_count": 55,
   "metadata": {},
   "outputs": [
    {
     "data": {
      "image/png": "[encoded data removed]",
      "text/plain": [
       "<matplotlib.figure.Figure at 0x7f992a579d68>"
      ]
     },
     "metadata": {
      "needs_background": "light"
     },
     "output_type": "display_data"
    }
   ],
   "source": [
    "plt.figure(figsize=(10, 5))\n",
    "plt.title('Distribution of Number of Missing Value Points in the processed Sparkify Dataset in Each Column')\n",
    "plt.hist(null_number / df_processed.count() * 100, bins=100)\n",
    "plt.xlabel('Percentage of Missing Data (%)')\n",
    "plt.ylabel('Count(s)')\n",
    "plt.show()"
   ]
  },
  {
   "cell_type": "code",
   "execution_count": 56,
   "metadata": {},
   "outputs": [],
   "source": [
    "# Remove 'CancelCounts' attribute\n",
    "df_processed = df_processed.drop('CancelCounts')"
   ]
  },
  {
   "cell_type": "code",
   "execution_count": 57,
   "metadata": {},
   "outputs": [
    {
     "data": {
      "text/plain": [
       "userId                              0\n",
       "freeLevel                          78\n",
       "paidLevel                         127\n",
       "AboutCounts                         0\n",
       "AddFriendCounts                     0\n",
       "AddtoPlaylistCounts                 0\n",
       "CancellationConfirmationCounts      0\n",
       "DowngradeCounts                     0\n",
       "ErrorCounts                         0\n",
       "HelpCounts                          0\n",
       "HomeCounts                          0\n",
       "LogoutCounts                        0\n",
       "NextSongCounts                      0\n",
       "RollAdvertCounts                    0\n",
       "SaveSettingsCounts                  0\n",
       "SettingsCounts                      0\n",
       "SubmitDowngradeCounts               0\n",
       "SubmitUpgradeCounts                 0\n",
       "ThumbsDownCounts                    0\n",
       "ThumbsUpCounts                      0\n",
       "UpgradeCounts                       0\n",
       "1QDayCounts                         0\n",
       "2QDayCounts                         0\n",
       "3QDayCounts                         0\n",
       "4QDayCounts                         0\n",
       "weekdayCounts                       0\n",
       "weekendCounts                       0\n",
       "dtype: int64"
      ]
     },
     "execution_count": 57,
     "metadata": {},
     "output_type": "execute_result"
    }
   ],
   "source": [
    "# fill all null values with 0\n",
    "df_processed = df_processed.fillna(0)\n",
    "df_processed.toPandas().isnull().sum()"
   ]
  },
  {
   "cell_type": "code",
   "execution_count": 58,
   "metadata": {},
   "outputs": [],
   "source": [
    "fill_null = udf(lambda x: 1 if x else 0)\n",
    "df_processed = df_processed.withColumn(\"freeLevel\", fill_null(df_processed.freeLevel))\n",
    "df_processed = df_processed.withColumn(\"paidLevel\", fill_null(df_processed.paidLevel))"
   ]
  },
  {
   "cell_type": "code",
   "execution_count": 59,
   "metadata": {},
   "outputs": [
    {
     "data": {
      "text/plain": [
       "userId                            0\n",
       "freeLevel                         0\n",
       "paidLevel                         0\n",
       "AboutCounts                       0\n",
       "AddFriendCounts                   0\n",
       "AddtoPlaylistCounts               0\n",
       "CancellationConfirmationCounts    0\n",
       "DowngradeCounts                   0\n",
       "ErrorCounts                       0\n",
       "HelpCounts                        0\n",
       "HomeCounts                        0\n",
       "LogoutCounts                      0\n",
       "NextSongCounts                    0\n",
       "RollAdvertCounts                  0\n",
       "SaveSettingsCounts                0\n",
       "SettingsCounts                    0\n",
       "SubmitDowngradeCounts             0\n",
       "SubmitUpgradeCounts               0\n",
       "ThumbsDownCounts                  0\n",
       "ThumbsUpCounts                    0\n",
       "UpgradeCounts                     0\n",
       "1QDayCounts                       0\n",
       "2QDayCounts                       0\n",
       "3QDayCounts                       0\n",
       "4QDayCounts                       0\n",
       "weekdayCounts                     0\n",
       "weekendCounts                     0\n",
       "dtype: int64"
      ]
     },
     "execution_count": 59,
     "metadata": {},
     "output_type": "execute_result"
    }
   ],
   "source": [
    "df_processed.toPandas().isnull().sum()"
   ]
  },
  {
   "cell_type": "code",
   "execution_count": 60,
   "metadata": {},
   "outputs": [],
   "source": [
    "# define 'Churn' based on 'CancellationConfirmationCounts' attribute\n",
    "# value of 0 refers to not churned users, whereas value of 1 refers to churned users\n",
    "get_churn = udf(lambda x: 1 if int(x) > 0 else 0)\n",
    "df_processed = df_processed.withColumn(\"Churn\", get_churn(df_processed.CancellationConfirmationCounts))"
   ]
  },
  {
   "cell_type": "code",
   "execution_count": 61,
   "metadata": {},
   "outputs": [],
   "source": [
    "# convert column datatypes to float for classification\n",
    "convert_to_string = udf(lambda x: str(int(x)))\n",
    "df_processed = df_processed.select(*(col(c).cast(\"float\").alias(c) for c in df_processed.columns))\n",
    "df_processed = df_processed.withColumn(\"userId\", convert_to_string(df_processed.userId))"
   ]
  },
  {
   "cell_type": "code",
   "execution_count": 62,
   "metadata": {},
   "outputs": [],
   "source": [
    "# define features for classification\n",
    "features = df_processed.columns\n",
    "features.remove('userId')\n",
    "features.remove('CancellationConfirmationCounts')\n",
    "features.remove('Churn')"
   ]
  },
  {
   "cell_type": "code",
   "execution_count": 63,
   "metadata": {},
   "outputs": [],
   "source": [
    "# combine all features by using VecotrAssembler\n",
    "assembler = VectorAssembler(inputCols=features, outputCol=\"ChurnFeatures\")\n",
    "df_processed = assembler.transform(df_processed)"
   ]
  },
  {
   "cell_type": "code",
   "execution_count": 64,
   "metadata": {},
   "outputs": [],
   "source": [
    "# scale features with Normalizer scaler\n",
    "scaler = Normalizer(inputCol=\"ChurnFeatures\", outputCol=\"NormedChurnFeatures\")\n",
    "df_processed = scaler.transform(df_processed)"
   ]
  },
  {
   "cell_type": "code",
   "execution_count": 65,
   "metadata": {},
   "outputs": [
    {
     "name": "stdout",
     "output_type": "stream",
     "text": [
      "+------+--------------------+--------------------+\n",
      "|userId|       ChurnFeatures| NormedChurnFeatures|\n",
      "+------+--------------------+--------------------+\n",
      "|100010|(25,[0,3,4,8,9,10...|(25,[0,3,4,8,9,10...|\n",
      "|200002|[1.0,1.0,1.0,2.0,...|[0.00192119856239...|\n",
      "|   296|[1.0,1.0,0.0,2.0,...|[0.00473641178047...|\n",
      "|   125|(25,[0,3,4,7,8,10...|(25,[0,3,4,7,8,10...|\n",
      "|   124|[0.0,1.0,3.0,26.0...|[0.0,3.7237326618...|\n",
      "|    51|[0.0,1.0,0.0,3.0,...|[0.0,0.0022722519...|\n",
      "|     7|[1.0,0.0,2.0,16.0...|[0.00123661932617...|\n",
      "|200037|(25,[0,2,3,4,8,10...|(25,[0,2,3,4,8,10...|\n",
      "|   169|(25,[0,3,8,10,11,...|(25,[0,3,8,10,11,...|\n",
      "|   205|[0.0,1.0,3.0,21.0...|[0.0,5.9569722328...|\n",
      "|   272|(25,[0,4,8,9,10,1...|(25,[0,4,8,9,10,1...|\n",
      "|    15|[0.0,1.0,3.0,32.0...|[0.0,3.5262518043...|\n",
      "|   232|[1.0,1.0,6.0,43.0...|[3.39725598199596...|\n",
      "|   234|[1.0,1.0,3.0,17.0...|[3.68959005301822...|\n",
      "|   282|[1.0,1.0,6.0,79.0...|[2.39911313694111...|\n",
      "|    54|[0.0,1.0,2.0,20.0...|[0.0,0.0013080257...|\n",
      "|   155|[0.0,1.0,0.0,0.0,...|[0.0,0.0046617640...|\n",
      "|200043|[1.0,1.0,0.0,12.0...|[9.64554735852246...|\n",
      "|100014|[0.0,1.0,0.0,3.0,...|[0.0,0.0020452806...|\n",
      "|   132|[1.0,1.0,1.0,4.0,...|[0.00477415356688...|\n",
      "+------+--------------------+--------------------+\n",
      "only showing top 20 rows\n",
      "\n"
     ]
    }
   ],
   "source": [
    "df_processed.select('userId', 'ChurnFeatures', 'NormedChurnFeatures').show()"
   ]
  },
  {
   "cell_type": "markdown",
   "metadata": {},
   "source": [
    "# Modeling\n",
    "Split the full dataset into train, test, and validation sets. Test out several of the machine learning methods you learned. Evaluate the accuracy of the various models, tuning parameters as necessary. Determine your winning model based on test accuracy and report results on the validation set. Since the churned users are a fairly small subset, I suggest using F1 score as the metric to optimize."
   ]
  },
  {
   "cell_type": "code",
   "execution_count": 66,
   "metadata": {},
   "outputs": [],
   "source": [
    "data = df_processed.select(col(\"Churn\").alias(\"label\"), col(\"NormedChurnFeatures\").alias(\"features\"))"
   ]
  },
  {
   "cell_type": "code",
   "execution_count": 67,
   "metadata": {},
   "outputs": [],
   "source": [
    "# check for imbalanced dataset\n",
    "# '0' refers to stayed users, while '1' refers to churned users\n",
    "numberOfStayedUsers = data.filter(data.label == 0).count()\n",
    "numberOfChurnUsers = data.filter(data.label == 1).count()"
   ]
  },
  {
   "cell_type": "code",
   "execution_count": 68,
   "metadata": {},
   "outputs": [
    {
     "name": "stdout",
     "output_type": "stream",
     "text": [
      "# of stayed users in model dataset:  349\n",
      "# of churned users in model dataset:  99\n",
      "% of stayed users in model dataset:  0.7790178571428571\n",
      "% of churned users in model dataset:  0.22098214285714285\n"
     ]
    }
   ],
   "source": [
    "print(\"# of stayed users in model dataset: \", numberOfStayedUsers)\n",
    "print(\"# of churned users in model dataset: \", numberOfChurnUsers)\n",
    "print(\"% of stayed users in model dataset: \", numberOfStayedUsers/data.count())\n",
    "print(\"% of churned users in model dataset: \", numberOfChurnUsers/data.count())"
   ]
  },
  {
   "cell_type": "markdown",
   "metadata": {},
   "source": [
    "#### Classification modeling"
   ]
  },
  {
   "cell_type": "code",
   "execution_count": 69,
   "metadata": {},
   "outputs": [],
   "source": [
    "# split dataset into training and testing dataset\n",
    "train, test = data.randomSplit([0.9, 0.1], seed=42)"
   ]
  },
  {
   "cell_type": "code",
   "execution_count": 70,
   "metadata": {},
   "outputs": [],
   "source": [
    "# function for calculating and returning metrics needed for model performance evaluation\n",
    "def get_metrics(results, beta=1):\n",
    "    tp, fp, fn, tn = [0 for i in range(4)]\n",
    "    cm = []\n",
    "    \n",
    "    label = results.select([\"label\"]).collect()\n",
    "    pred = results.select([\"prediction\"]).collect()\n",
    "    labelList = list(map(convert_row_to_string, label, ['label' for i in range(len(label))]))\n",
    "    predList = list(map(convert_row_to_string, pred, ['prediction' for i in range(len(pred))]))\n",
    "    \n",
    "    for i, (l, p) in enumerate(zip(labelList, predList)):    \n",
    "        if (l == 1) and (p == 1):\n",
    "            tp += 1\n",
    "        elif (l == 0) and (p == 1):\n",
    "            fp += 1\n",
    "        elif (l == 1) and (p == 0):\n",
    "            fn += 1\n",
    "        elif (l == 0) and (p == 0):\n",
    "            tn += 1\n",
    "        \n",
    "    cm = [[tp, fp], [fn, tn]]\n",
    "\n",
    "    # accuracy = (true pos + true neg) / dataset size \n",
    "    accuracy = (cm[0][0] + cm[1][1]) / (sum(cm[0]) + sum(cm[1]))\n",
    "    \n",
    "    if cm[0][0] == 0 and cm[0][1] == 0 and cm[1][0] == 0:\n",
    "        precision, recall, f_score = [1 for i in range(3)]\n",
    "    elif (cm[0][0] == 0 and cm[0][1] == 0) or (cm[0][0] == 0 and cm[1][0] == 0):\n",
    "        precision, recall, f_score = [0 for i in range(3)]\n",
    "    else:\n",
    "        # precision = true pos / (true pos + false neg)\n",
    "        precision = cm[0][0] / (cm[0][0] + cm[0][1])\n",
    "        # recall = true pos / (true pos + false neg)\n",
    "        recall = cm[0][0] / (cm[0][0] + cm[1][0])\n",
    "        # f_score = (1 + beta^2) * (precision * recall) / ((beta^2 * precision) + recall)\n",
    "        f_score = (1 + beta*beta) * (precision * recall) / ((beta*beta * precision) + recall)\n",
    "    \n",
    "    return accuracy, precision, recall, f_score"
   ]
  },
  {
   "cell_type": "markdown",
   "metadata": {},
   "source": [
    "#### Logistic Regression"
   ]
  },
  {
   "cell_type": "code",
   "execution_count": 71,
   "metadata": {},
   "outputs": [],
   "source": [
    "# evaluator used to evaluate binary classification performance\n",
    "evaluator = BinaryClassificationEvaluator()"
   ]
  },
  {
   "cell_type": "code",
   "execution_count": 72,
   "metadata": {},
   "outputs": [],
   "source": [
    "# fit training data to model and predict\n",
    "lr = LogisticRegression(maxIter=10, regParam=0.0, elasticNetParam=0)\n",
    "pred_lr = lr.fit(train).transform(test)\n",
    "results_lr = pred_lr.select(['prediction', 'label'])"
   ]
  },
  {
   "cell_type": "code",
   "execution_count": 73,
   "metadata": {},
   "outputs": [],
   "source": [
    "# default value for beta is 1 for F1 score\n",
    "accuracy, precision, recall, f_score = get_metrics(results_lr)"
   ]
  },
  {
   "cell_type": "code",
   "execution_count": 74,
   "metadata": {},
   "outputs": [
    {
     "name": "stdout",
     "output_type": "stream",
     "text": [
      "Logistic Regression Metrics:\n",
      "\n",
      "Accuracy = 0.840909\n",
      "Precison = 0.800000\n",
      "Recall = 0.400000\n",
      "F1 Score = 0.533333\n"
     ]
    }
   ],
   "source": [
    "print(\"Logistic Regression Metrics:\\n\")\n",
    "print(\"Accuracy = %f\" % accuracy)\n",
    "print(\"Precison = %f\" % precision)\n",
    "print(\"Recall = %f\" % recall)\n",
    "print(\"F1 Score = %f\" % f_score)"
   ]
  },
  {
   "cell_type": "code",
   "execution_count": 75,
   "metadata": {},
   "outputs": [
    {
     "name": "stdout",
     "output_type": "stream",
     "text": [
      "Area Under ROC: 0.752941\n"
     ]
    }
   ],
   "source": [
    "areaUnderROC = evaluator.evaluate(pred_lr, {evaluator.metricName: \"areaUnderROC\"})\n",
    "print(\"Area Under ROC: %f\" % areaUnderROC)"
   ]
  },
  {
   "cell_type": "markdown",
   "metadata": {},
   "source": [
    "#### Random Forest Classifier"
   ]
  },
  {
   "cell_type": "code",
   "execution_count": 76,
   "metadata": {},
   "outputs": [],
   "source": [
    "rf = RandomForestClassifier()\n",
    "pred_rf = rf.fit(train).transform(test)\n",
    "results_rf = pred_rf.select(['prediction', 'label'])"
   ]
  },
  {
   "cell_type": "code",
   "execution_count": 77,
   "metadata": {},
   "outputs": [],
   "source": [
    "accuracy, precision, recall, f_score = get_metrics(results_rf)"
   ]
  },
  {
   "cell_type": "code",
   "execution_count": 78,
   "metadata": {},
   "outputs": [
    {
     "name": "stdout",
     "output_type": "stream",
     "text": [
      "Random Forest Classifier Metrics:\n",
      "\n",
      "Accuracy = 0.795455\n",
      "Precison = 1.000000\n",
      "Recall = 0.100000\n",
      "F1 Score = 0.181818\n"
     ]
    }
   ],
   "source": [
    "print(\"Random Forest Classifier Metrics:\\n\")\n",
    "print(\"Accuracy = %f\" % accuracy)\n",
    "print(\"Precison = %f\" % precision)\n",
    "print(\"Recall = %f\" % recall)\n",
    "print(\"F1 Score = %f\" % f_score)"
   ]
  },
  {
   "cell_type": "code",
   "execution_count": 79,
   "metadata": {},
   "outputs": [
    {
     "name": "stdout",
     "output_type": "stream",
     "text": [
      "Area Under ROC: 0.679412\n"
     ]
    }
   ],
   "source": [
    "areaUnderROC = evaluator.evaluate(pred_rf, {evaluator.metricName: \"areaUnderROC\"})\n",
    "print(\"Area Under ROC: %f\" % areaUnderROC)"
   ]
  },
  {
   "cell_type": "markdown",
   "metadata": {},
   "source": [
    "#### Gradient-Boosted Tree Classifier"
   ]
  },
  {
   "cell_type": "code",
   "execution_count": 80,
   "metadata": {},
   "outputs": [],
   "source": [
    "gbt = GBTClassifier(maxIter=10)\n",
    "pred_gbt = gbt.fit(train).transform(test)\n",
    "results_gbt = pred_gbt.select(['prediction', 'label'])"
   ]
  },
  {
   "cell_type": "code",
   "execution_count": 81,
   "metadata": {},
   "outputs": [],
   "source": [
    "accuracy, precision, recall, f_score = get_metrics(results_gbt)"
   ]
  },
  {
   "cell_type": "code",
   "execution_count": 82,
   "metadata": {},
   "outputs": [
    {
     "name": "stdout",
     "output_type": "stream",
     "text": [
      "Gradient-Boosted Tree Classifier Metrics:\n",
      "\n",
      "Accuracy = 0.772727\n",
      "Precison = 0.500000\n",
      "Recall = 0.200000\n",
      "F1 Score = 0.285714\n"
     ]
    }
   ],
   "source": [
    "print(\"Gradient-Boosted Tree Classifier Metrics:\\n\")\n",
    "print(\"Accuracy = %f\" % accuracy)\n",
    "print(\"Precison = %f\" % precision)\n",
    "print(\"Recall = %f\" % recall)\n",
    "print(\"F1 Score = %f\" % f_score)"
   ]
  },
  {
   "cell_type": "code",
   "execution_count": 83,
   "metadata": {},
   "outputs": [
    {
     "name": "stdout",
     "output_type": "stream",
     "text": [
      "Area Under ROC: 0.594118\n"
     ]
    }
   ],
   "source": [
    "areaUnderROC = evaluator.evaluate(pred_gbt, {evaluator.metricName: \"areaUnderROC\"})\n",
    "print(\"Area Under ROC: %f\" % areaUnderROC)"
   ]
  },
  {
   "cell_type": "markdown",
   "metadata": {},
   "source": [
    "From the metrics calculated above, logistic regression, amongst the other two classifiers, performs the best in average in predicting the churn rate for Sparkify with the calculated F1 score of 53.3% and area under receiver-operating characteristic (ROC) of 75.3%."
   ]
  },
  {
   "cell_type": "markdown",
   "metadata": {},
   "source": [
    "#### Tune logistic regression model to optimize performance"
   ]
  },
  {
   "cell_type": "code",
   "execution_count": 84,
   "metadata": {},
   "outputs": [],
   "source": [
    "# deal with imbalanced dataset by under-sampling the stayed users (negative cases) in the dataset and treating churned users \n",
    "# (positive cases) with higher weights\n",
    "numChurned = train.filter(train.label == 1).count()\n",
    "trainSize = train.count()\n",
    "balancingRatio = (trainSize - numChurned)/ trainSize"
   ]
  },
  {
   "cell_type": "code",
   "execution_count": 85,
   "metadata": {},
   "outputs": [],
   "source": [
    "calculate_weights = udf(lambda x: balancingRatio if x == 1 else 1-balancingRatio)\n",
    "weighted_train = train.withColumn('classWeights', calculate_weights(data.label))\n",
    "weighted_train = weighted_train.withColumn('classWeights', col('classWeights').cast(\"float\"))"
   ]
  },
  {
   "cell_type": "code",
   "execution_count": 86,
   "metadata": {},
   "outputs": [
    {
     "name": "stdout",
     "output_type": "stream",
     "text": [
      "+-----+--------------------+------------+\n",
      "|label|            features|classWeights|\n",
      "+-----+--------------------+------------+\n",
      "|  1.0|(25,[0,3,4,8,9,10...|  0.77970296|\n",
      "|  1.0|[0.00192119856239...|  0.77970296|\n",
      "|  0.0|(25,[0,3,4,7,8,10...|  0.22029702|\n",
      "|  0.0|[0.00123661932617...|  0.22029702|\n",
      "|  1.0|[0.0,3.7237326618...|  0.77970296|\n",
      "|  1.0|[0.0,0.0022722519...|  0.77970296|\n",
      "|  1.0|(25,[0,2,3,4,8,10...|  0.77970296|\n",
      "|  0.0|(25,[0,3,8,10,11,...|  0.22029702|\n",
      "|  0.0|[0.0,5.9569722328...|  0.22029702|\n",
      "|  0.0|(25,[0,4,8,9,10,1...|  0.22029702|\n",
      "|  0.0|[0.0,3.5262518043...|  0.22029702|\n",
      "|  0.0|[2.39911313694111...|  0.22029702|\n",
      "|  0.0|[3.39725598199596...|  0.22029702|\n",
      "|  1.0|[3.68959005301822...|  0.77970296|\n",
      "|  0.0|[0.0,0.0046617640...|  0.22029702|\n",
      "|  1.0|[0.0,0.0020452806...|  0.77970296|\n",
      "|  1.0|[0.00477415356688...|  0.77970296|\n",
      "|  1.0|[0.00639385666478...|  0.77970296|\n",
      "|  0.0|[0.00223549241229...|  0.22029702|\n",
      "|  1.0|[0.0,0.0038764640...|  0.77970296|\n",
      "+-----+--------------------+------------+\n",
      "only showing top 20 rows\n",
      "\n"
     ]
    }
   ],
   "source": [
    "weighted_train.show()"
   ]
  },
  {
   "cell_type": "code",
   "execution_count": null,
   "metadata": {},
   "outputs": [],
   "source": [
    "lr = LogisticRegression(labelCol=\"label\", featuresCol=\"features\", weightCol=\"classWeights\")\n",
    "\n",
    "paramGrid = ParamGridBuilder() \\\n",
    "    .addGrid(lr.maxIter, [10, 50])\\\n",
    "    .addGrid(lr.regParam,[0.0, 0.1, 0.5]) \\\n",
    "    .addGrid(lr.elasticNetParam,[0.0, 0.5, 1.0]) \\\n",
    "    .build()\n",
    "\n",
    "crossval_lr = CrossValidator(estimator=lr,\n",
    "                          estimatorParamMaps=paramGrid,\n",
    "                          evaluator=BinaryClassificationEvaluator(),\n",
    "                          numFolds=3)\n",
    "\n",
    "cvModel_lr = crossval_lr.fit(weighted_train)\n",
    "cvModel_lr.save('cvModel_lr.model')"
   ]
  },
  {
   "cell_type": "code",
   "execution_count": 87,
   "metadata": {},
   "outputs": [],
   "source": [
    "cvModel_lr = CrossValidatorModel.load('cvModel_lr.model')"
   ]
  },
  {
   "cell_type": "code",
   "execution_count": 88,
   "metadata": {},
   "outputs": [],
   "source": [
    "cvModel_lr_preds = cvModel_lr.transform(test)\n",
    "results_cvModel = cvModel_lr_preds.select(['prediction', 'label'])"
   ]
  },
  {
   "cell_type": "code",
   "execution_count": 89,
   "metadata": {},
   "outputs": [],
   "source": [
    "accuracy, precision, recall, f_score = get_metrics(results_cvModel)"
   ]
  },
  {
   "cell_type": "code",
   "execution_count": 90,
   "metadata": {},
   "outputs": [
    {
     "name": "stdout",
     "output_type": "stream",
     "text": [
      "Optimized Logistic Regression Metrics:\n",
      "\n",
      "Accuracy = 0.818182\n",
      "Precison = 0.571429\n",
      "Recall = 0.800000\n",
      "F1 Score = 0.666667\n"
     ]
    }
   ],
   "source": [
    "print(\"Optimized Logistic Regression Metrics:\\n\")\n",
    "print(\"Accuracy = %f\" % accuracy)\n",
    "print(\"Precison = %f\" % precision)\n",
    "print(\"Recall = %f\" % recall)\n",
    "print(\"F1 Score = %f\" % f_score)"
   ]
  },
  {
   "cell_type": "code",
   "execution_count": 91,
   "metadata": {},
   "outputs": [
    {
     "name": "stdout",
     "output_type": "stream",
     "text": [
      "Area Under ROC: 0.958824\n"
     ]
    }
   ],
   "source": [
    "areaUnderROC = evaluator.evaluate(cvModel_lr_preds, {evaluator.metricName: \"areaUnderROC\"})\n",
    "print(\"Area Under ROC: %f\" % areaUnderROC)"
   ]
  },
  {
   "cell_type": "code",
   "execution_count": 92,
   "metadata": {},
   "outputs": [
    {
     "name": "stdout",
     "output_type": "stream",
     "text": [
      "Best Model's 'maxIter' Parameter = 50.000000\n",
      "Best Model's 'regParam' Parameter = 0.000000\n",
      "Best Model's 'elasticNetParam' Parameter = 0.000000\n"
     ]
    }
   ],
   "source": [
    "bestModel = cvModel_lr.bestModel\n",
    "print(\"Best Model's 'maxIter' Parameter = %f\" % bestModel._java_obj.getMaxIter())\n",
    "print(\"Best Model's 'regParam' Parameter = %f\" % bestModel._java_obj.getRegParam())\n",
    "print(\"Best Model's 'elasticNetParam' Parameter = %f\" % bestModel._java_obj.getElasticNetParam())"
   ]
  },
  {
   "cell_type": "markdown",
   "metadata": {},
   "source": [
    "As seen from the classification and analysis done above, we can first see that logistic regression performed the best compared to random forest and gradient-boosted tree classifiers as measured with its highest F1 score. However, in order to optimize its F1 score and performance, I tuned the hyperparameters of the logistic regression, as well as made the training dataset more balanced by adding more weights to the churned users (positive cases) since the churned users appeared around 3.5x less likely than stayed users. As a result, the tuned and optmized logistic regression model scored an improved F1 score of 66.7% against the original F1 score of 53.3%, and area under ROC of 95.9% against the original area under ROC of 75.3%."
   ]
  }
 ],
 "metadata": {
  "kernelspec": {
   "display_name": "Python 3",
   "language": "python",
   "name": "python3"
  },
  "language_info": {
   "codemirror_mode": {
    "name": "ipython",
    "version": 3
   },
   "file_extension": ".py",
   "mimetype": "text/x-python",
   "name": "python",
   "nbconvert_exporter": "python",
   "pygments_lexer": "ipython3",
   "version": "3.7.4"
  }
 },
 "nbformat": 4,
 "nbformat_minor": 2
}
